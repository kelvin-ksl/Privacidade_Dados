{
 "cells": [
  {
   "cell_type": "markdown",
   "id": "f7cf661a",
   "metadata": {},
   "source": [
    "# Trabalho 2 - Privacidade de Dados - Kelvin Sampaio"
   ]
  },
  {
   "cell_type": "code",
   "execution_count": 1,
   "id": "a3c45a1f",
   "metadata": {},
   "outputs": [],
   "source": [
    "#Importando Bibliotecas\n",
    "import numpy as np\n",
    "import pandas as pd\n",
    "import matplotlib.pyplot as plt\n",
    "from datetime import datetime\n",
    "from collections import Counter\n",
    "import seaborn as sns\n",
    "import warnings\n",
    "warnings.filterwarnings('ignore')"
   ]
  },
  {
   "cell_type": "code",
   "execution_count": 2,
   "id": "4ac054cd",
   "metadata": {},
   "outputs": [],
   "source": [
    "#Importando dataset\n",
    "df = pd.read_csv('covid.csv', sep=';').drop(['Unnamed: 0'], axis=1)"
   ]
  },
  {
   "cell_type": "code",
   "execution_count": 3,
   "id": "ec8ffb95",
   "metadata": {},
   "outputs": [
    {
     "data": {
      "text/html": [
       "<div>\n",
       "<style scoped>\n",
       "    .dataframe tbody tr th:only-of-type {\n",
       "        vertical-align: middle;\n",
       "    }\n",
       "\n",
       "    .dataframe tbody tr th {\n",
       "        vertical-align: top;\n",
       "    }\n",
       "\n",
       "    .dataframe thead th {\n",
       "        text-align: right;\n",
       "    }\n",
       "</style>\n",
       "<table border=\"1\" class=\"dataframe\">\n",
       "  <thead>\n",
       "    <tr style=\"text-align: right;\">\n",
       "      <th></th>\n",
       "      <th>Identificador</th>\n",
       "      <th>CodigoMunicipio</th>\n",
       "      <th>Municipio</th>\n",
       "      <th>Estado</th>\n",
       "      <th>Genero</th>\n",
       "      <th>Nascimento</th>\n",
       "      <th>ResultadoExame</th>\n",
       "    </tr>\n",
       "  </thead>\n",
       "  <tbody>\n",
       "    <tr>\n",
       "      <th>0</th>\n",
       "      <td>c3ba634113e4b5eb0e3eaae93b09759b</td>\n",
       "      <td>231290.0</td>\n",
       "      <td>SOBRAL</td>\n",
       "      <td>CE</td>\n",
       "      <td>MASCULINO</td>\n",
       "      <td>2003-08-14</td>\n",
       "      <td>Negativo</td>\n",
       "    </tr>\n",
       "    <tr>\n",
       "      <th>1</th>\n",
       "      <td>ac84809bfc89b992a0a0221e50b135c0</td>\n",
       "      <td>230960.0</td>\n",
       "      <td>PACAJUS</td>\n",
       "      <td>CE</td>\n",
       "      <td>MASCULINO</td>\n",
       "      <td>1983-11-07</td>\n",
       "      <td>Negativo</td>\n",
       "    </tr>\n",
       "    <tr>\n",
       "      <th>2</th>\n",
       "      <td>28ccfaa0c53b792cd1ffa0b7e535f617</td>\n",
       "      <td>230523.0</td>\n",
       "      <td>HORIZONTE</td>\n",
       "      <td>CE</td>\n",
       "      <td>FEMININO</td>\n",
       "      <td>1982-01-14</td>\n",
       "      <td>Negativo</td>\n",
       "    </tr>\n",
       "    <tr>\n",
       "      <th>3</th>\n",
       "      <td>9683fc5fd2c0f7b72fa92ffd259d738a</td>\n",
       "      <td>230440.0</td>\n",
       "      <td>FORTALEZA</td>\n",
       "      <td>CE</td>\n",
       "      <td>MASCULINO</td>\n",
       "      <td>1992-03-12</td>\n",
       "      <td>Negativo</td>\n",
       "    </tr>\n",
       "    <tr>\n",
       "      <th>4</th>\n",
       "      <td>e257ccdc48289f02e047cbf046251319</td>\n",
       "      <td>230370.0</td>\n",
       "      <td>CAUCAIA</td>\n",
       "      <td>CE</td>\n",
       "      <td>MASCULINO</td>\n",
       "      <td>1970-03-06</td>\n",
       "      <td>Negativo</td>\n",
       "    </tr>\n",
       "  </tbody>\n",
       "</table>\n",
       "</div>"
      ],
      "text/plain": [
       "                      Identificador  CodigoMunicipio  Municipio Estado  \\\n",
       "0  c3ba634113e4b5eb0e3eaae93b09759b         231290.0     SOBRAL     CE   \n",
       "1  ac84809bfc89b992a0a0221e50b135c0         230960.0    PACAJUS     CE   \n",
       "2  28ccfaa0c53b792cd1ffa0b7e535f617         230523.0  HORIZONTE     CE   \n",
       "3  9683fc5fd2c0f7b72fa92ffd259d738a         230440.0  FORTALEZA     CE   \n",
       "4  e257ccdc48289f02e047cbf046251319         230370.0    CAUCAIA     CE   \n",
       "\n",
       "      Genero  Nascimento ResultadoExame  \n",
       "0  MASCULINO  2003-08-14       Negativo  \n",
       "1  MASCULINO  1983-11-07       Negativo  \n",
       "2   FEMININO  1982-01-14       Negativo  \n",
       "3  MASCULINO  1992-03-12       Negativo  \n",
       "4  MASCULINO  1970-03-06       Negativo  "
      ]
     },
     "execution_count": 3,
     "metadata": {},
     "output_type": "execute_result"
    }
   ],
   "source": [
    "df.head()"
   ]
  },
  {
   "cell_type": "code",
   "execution_count": 4,
   "id": "8808b1eb",
   "metadata": {},
   "outputs": [
    {
     "name": "stdout",
     "output_type": "stream",
     "text": [
      "<class 'pandas.core.frame.DataFrame'>\n",
      "RangeIndex: 879543 entries, 0 to 879542\n",
      "Data columns (total 7 columns):\n",
      " #   Column           Non-Null Count   Dtype  \n",
      "---  ------           --------------   -----  \n",
      " 0   Identificador    879543 non-null  object \n",
      " 1   CodigoMunicipio  879543 non-null  float64\n",
      " 2   Municipio        879543 non-null  object \n",
      " 3   Estado           879543 non-null  object \n",
      " 4   Genero           879543 non-null  object \n",
      " 5   Nascimento       879543 non-null  object \n",
      " 6   ResultadoExame   879543 non-null  object \n",
      "dtypes: float64(1), object(6)\n",
      "memory usage: 47.0+ MB\n"
     ]
    }
   ],
   "source": [
    "df.info()"
   ]
  },
  {
   "attachments": {
    "image.png": {
     "image/png": "[encoded data removed]"
    }
   },
   "cell_type": "markdown",
   "id": "4d459fbc",
   "metadata": {},
   "source": [
    "![image.png](attachment:image.png)"
   ]
  },
  {
   "cell_type": "code",
   "execution_count": 5,
   "id": "436ff183",
   "metadata": {},
   "outputs": [],
   "source": [
    "#Convertendo coluna Nascimento para o tipo Date\n",
    "df['Nascimento'] = pd.to_datetime(df['Nascimento'], format='%Y-%m-%d', errors='coerce')\n",
    "\n",
    "#Criando um novo DF com a coluna idade e os dados convertidos\n",
    "df1 = df.loc[df['Nascimento'].dt.year >= 1900]\n",
    "df1['Idade'] = (datetime.now().year - df1['Nascimento'].dt.year)"
   ]
  },
  {
   "cell_type": "code",
   "execution_count": 6,
   "id": "aacf81e2",
   "metadata": {},
   "outputs": [
    {
     "data": {
      "text/html": [
       "<div>\n",
       "<style scoped>\n",
       "    .dataframe tbody tr th:only-of-type {\n",
       "        vertical-align: middle;\n",
       "    }\n",
       "\n",
       "    .dataframe tbody tr th {\n",
       "        vertical-align: top;\n",
       "    }\n",
       "\n",
       "    .dataframe thead th {\n",
       "        text-align: right;\n",
       "    }\n",
       "</style>\n",
       "<table border=\"1\" class=\"dataframe\">\n",
       "  <thead>\n",
       "    <tr style=\"text-align: right;\">\n",
       "      <th></th>\n",
       "      <th>Identificador</th>\n",
       "      <th>CodigoMunicipio</th>\n",
       "      <th>Municipio</th>\n",
       "      <th>Estado</th>\n",
       "      <th>Genero</th>\n",
       "      <th>Nascimento</th>\n",
       "      <th>ResultadoExame</th>\n",
       "      <th>Idade</th>\n",
       "    </tr>\n",
       "  </thead>\n",
       "  <tbody>\n",
       "    <tr>\n",
       "      <th>0</th>\n",
       "      <td>c3ba634113e4b5eb0e3eaae93b09759b</td>\n",
       "      <td>231290.0</td>\n",
       "      <td>SOBRAL</td>\n",
       "      <td>CE</td>\n",
       "      <td>MASCULINO</td>\n",
       "      <td>2003-08-14</td>\n",
       "      <td>Negativo</td>\n",
       "      <td>19</td>\n",
       "    </tr>\n",
       "    <tr>\n",
       "      <th>1</th>\n",
       "      <td>ac84809bfc89b992a0a0221e50b135c0</td>\n",
       "      <td>230960.0</td>\n",
       "      <td>PACAJUS</td>\n",
       "      <td>CE</td>\n",
       "      <td>MASCULINO</td>\n",
       "      <td>1983-11-07</td>\n",
       "      <td>Negativo</td>\n",
       "      <td>39</td>\n",
       "    </tr>\n",
       "    <tr>\n",
       "      <th>2</th>\n",
       "      <td>28ccfaa0c53b792cd1ffa0b7e535f617</td>\n",
       "      <td>230523.0</td>\n",
       "      <td>HORIZONTE</td>\n",
       "      <td>CE</td>\n",
       "      <td>FEMININO</td>\n",
       "      <td>1982-01-14</td>\n",
       "      <td>Negativo</td>\n",
       "      <td>40</td>\n",
       "    </tr>\n",
       "    <tr>\n",
       "      <th>3</th>\n",
       "      <td>9683fc5fd2c0f7b72fa92ffd259d738a</td>\n",
       "      <td>230440.0</td>\n",
       "      <td>FORTALEZA</td>\n",
       "      <td>CE</td>\n",
       "      <td>MASCULINO</td>\n",
       "      <td>1992-03-12</td>\n",
       "      <td>Negativo</td>\n",
       "      <td>30</td>\n",
       "    </tr>\n",
       "    <tr>\n",
       "      <th>4</th>\n",
       "      <td>e257ccdc48289f02e047cbf046251319</td>\n",
       "      <td>230370.0</td>\n",
       "      <td>CAUCAIA</td>\n",
       "      <td>CE</td>\n",
       "      <td>MASCULINO</td>\n",
       "      <td>1970-03-06</td>\n",
       "      <td>Negativo</td>\n",
       "      <td>52</td>\n",
       "    </tr>\n",
       "  </tbody>\n",
       "</table>\n",
       "</div>"
      ],
      "text/plain": [
       "                      Identificador  CodigoMunicipio  Municipio Estado  \\\n",
       "0  c3ba634113e4b5eb0e3eaae93b09759b         231290.0     SOBRAL     CE   \n",
       "1  ac84809bfc89b992a0a0221e50b135c0         230960.0    PACAJUS     CE   \n",
       "2  28ccfaa0c53b792cd1ffa0b7e535f617         230523.0  HORIZONTE     CE   \n",
       "3  9683fc5fd2c0f7b72fa92ffd259d738a         230440.0  FORTALEZA     CE   \n",
       "4  e257ccdc48289f02e047cbf046251319         230370.0    CAUCAIA     CE   \n",
       "\n",
       "      Genero Nascimento ResultadoExame  Idade  \n",
       "0  MASCULINO 2003-08-14       Negativo     19  \n",
       "1  MASCULINO 1983-11-07       Negativo     39  \n",
       "2   FEMININO 1982-01-14       Negativo     40  \n",
       "3  MASCULINO 1992-03-12       Negativo     30  \n",
       "4  MASCULINO 1970-03-06       Negativo     52  "
      ]
     },
     "execution_count": 6,
     "metadata": {},
     "output_type": "execute_result"
    }
   ],
   "source": [
    "df1.head()"
   ]
  },
  {
   "cell_type": "code",
   "execution_count": 7,
   "id": "d37346b2",
   "metadata": {},
   "outputs": [
    {
     "name": "stdout",
     "output_type": "stream",
     "text": [
      "<class 'pandas.core.frame.DataFrame'>\n",
      "Int64Index: 879490 entries, 0 to 879542\n",
      "Data columns (total 8 columns):\n",
      " #   Column           Non-Null Count   Dtype         \n",
      "---  ------           --------------   -----         \n",
      " 0   Identificador    879490 non-null  object        \n",
      " 1   CodigoMunicipio  879490 non-null  float64       \n",
      " 2   Municipio        879490 non-null  object        \n",
      " 3   Estado           879490 non-null  object        \n",
      " 4   Genero           879490 non-null  object        \n",
      " 5   Nascimento       879490 non-null  datetime64[ns]\n",
      " 6   ResultadoExame   879490 non-null  object        \n",
      " 7   Idade            879490 non-null  int64         \n",
      "dtypes: datetime64[ns](1), float64(1), int64(1), object(5)\n",
      "memory usage: 60.4+ MB\n"
     ]
    }
   ],
   "source": [
    "df1.info()"
   ]
  },
  {
   "attachments": {
    "image.png": {
     "image/png": "[encoded data removed]"
    }
   },
   "cell_type": "markdown",
   "id": "22145a1f",
   "metadata": {},
   "source": [
    "![image.png](attachment:image.png)"
   ]
  },
  {
   "cell_type": "code",
   "execution_count": 8,
   "id": "aa7edf8e",
   "metadata": {},
   "outputs": [
    {
     "data": {
      "text/plain": [
       "41.68734380152134"
      ]
     },
     "execution_count": 8,
     "metadata": {},
     "output_type": "execute_result"
    }
   ],
   "source": [
    "#Calcula a média das idades\n",
    "f_x = df1['Idade'].mean()\n",
    "f_x"
   ]
  },
  {
   "cell_type": "code",
   "execution_count": 9,
   "id": "0033c6d1",
   "metadata": {},
   "outputs": [],
   "source": [
    "#Sensibilidade Global\n",
    "sensitivity = 1 \n",
    "\n",
    "#Epsilons\n",
    "epsilons = [0.1, 0.5, 1.0, 10.0]"
   ]
  },
  {
   "cell_type": "code",
   "execution_count": 10,
   "id": "43f30df0",
   "metadata": {},
   "outputs": [
    {
     "data": {
      "text/plain": [
       "\"f_x_linha = (df1['Idade'].sum() - df1['Idade']) / (df.shape[0] - 1)\\nf_x = df1['Idade'].mean()\\nsensitivity = abs(f_x - f_x_linha.min()) \\n\""
      ]
     },
     "execution_count": 10,
     "metadata": {},
     "output_type": "execute_result"
    }
   ],
   "source": [
    "#Possível Calculo de Sensibilidade Global\n",
    "'''f_x_linha = (df1['Idade'].sum() - df1['Idade']) / (df.shape[0] - 1)\n",
    "f_x = df1['Idade'].mean()\n",
    "sensitivity = abs(f_x - f_x_linha.min()) \n",
    "'''\n"
   ]
  },
  {
   "cell_type": "code",
   "execution_count": 11,
   "id": "ccc4ff11",
   "metadata": {},
   "outputs": [
    {
     "name": "stdout",
     "output_type": "stream",
     "text": [
      "para e=0.1 o ruido=5.11\n",
      "para e=0.5 o ruido=-4.00\n",
      "para e=1.0 o ruido=-1.66\n",
      "para e=10.0 o ruido=-0.05\n"
     ]
    }
   ],
   "source": [
    "#Laplace\n",
    "ruidos = list()\n",
    "for epsilon in epsilons:\n",
    "    ruido = np.random.laplace(loc=0, scale=sensitivity/epsilon)\n",
    "    ruidos.append(ruido)\n",
    "    \n",
    "    print(f'para e={epsilon} o ruido={ruido:.2f}')"
   ]
  },
  {
   "cell_type": "code",
   "execution_count": 12,
   "id": "cc3af6db",
   "metadata": {},
   "outputs": [
    {
     "data": {
      "image/png": "[encoded data removed]",
      "text/plain": [
       "<Figure size 720x432 with 1 Axes>"
      ]
     },
     "metadata": {
      "needs_background": "light"
     },
     "output_type": "display_data"
    }
   ],
   "source": [
    "#Plot de Gráficos comparativos Original x Laplace\n",
    "\n",
    "#Valores Epsilons\n",
    "labels = [f'{epsilon}' for epsilon in epsilons]\n",
    "\n",
    "#Original\n",
    "original = [round(f_x, 2) for i in range(4)]\n",
    "\n",
    "#Adicionando ruido\n",
    "laplace = [round(f_x + ruido, 2) for ruido in ruidos]\n",
    "\n",
    "plt.figure(figsize=(10,6))\n",
    "\n",
    "labe = f'Com Ruido'\n",
    "plt.plot(epsilons, laplace, '-o', label=labe)\n",
    "\n",
    "labe1 = f'Sem Ruído'\n",
    "plt.plot(epsilons, original, '-o', label=labe1)\n",
    "\n",
    "plt.title(f'Saída Com e Sem Ruído')\n",
    "plt.legend(title='Tipo de Saída')\n",
    "plt.xlabel('Epsilon')\n",
    "plt.ylabel('Saída')\n",
    "\n",
    "plt.show()"
   ]
  },
  {
   "cell_type": "code",
   "execution_count": 13,
   "id": "157fe570",
   "metadata": {},
   "outputs": [],
   "source": [
    "#Mescla variaveis \n",
    "dados = list(zip(laplace, labels))\n",
    "\n",
    "#Cria de dataframe\n",
    "df_Q1 = pd.DataFrame(dados, columns=['Média_Idade','Valor_Epsilon'])"
   ]
  },
  {
   "cell_type": "code",
   "execution_count": 14,
   "id": "f9125761",
   "metadata": {},
   "outputs": [
    {
     "data": {
      "text/html": [
       "<div>\n",
       "<style scoped>\n",
       "    .dataframe tbody tr th:only-of-type {\n",
       "        vertical-align: middle;\n",
       "    }\n",
       "\n",
       "    .dataframe tbody tr th {\n",
       "        vertical-align: top;\n",
       "    }\n",
       "\n",
       "    .dataframe thead th {\n",
       "        text-align: right;\n",
       "    }\n",
       "</style>\n",
       "<table border=\"1\" class=\"dataframe\">\n",
       "  <thead>\n",
       "    <tr style=\"text-align: right;\">\n",
       "      <th></th>\n",
       "      <th>Média_Idade</th>\n",
       "      <th>Valor_Epsilon</th>\n",
       "    </tr>\n",
       "  </thead>\n",
       "  <tbody>\n",
       "    <tr>\n",
       "      <th>0</th>\n",
       "      <td>46.79</td>\n",
       "      <td>0.1</td>\n",
       "    </tr>\n",
       "    <tr>\n",
       "      <th>1</th>\n",
       "      <td>37.69</td>\n",
       "      <td>0.5</td>\n",
       "    </tr>\n",
       "    <tr>\n",
       "      <th>2</th>\n",
       "      <td>40.03</td>\n",
       "      <td>1.0</td>\n",
       "    </tr>\n",
       "    <tr>\n",
       "      <th>3</th>\n",
       "      <td>41.64</td>\n",
       "      <td>10.0</td>\n",
       "    </tr>\n",
       "  </tbody>\n",
       "</table>\n",
       "</div>"
      ],
      "text/plain": [
       "   Média_Idade Valor_Epsilon\n",
       "0        46.79           0.1\n",
       "1        37.69           0.5\n",
       "2        40.03           1.0\n",
       "3        41.64          10.0"
      ]
     },
     "execution_count": 14,
     "metadata": {},
     "output_type": "execute_result"
    }
   ],
   "source": [
    "#Salva datraframe em arquivo csv\n",
    "df_Q1.to_csv('Consulta_1_1Q1.csv', index=False)\n",
    "df_Q1.head()"
   ]
  },
  {
   "attachments": {
    "image.png": {
     "image/png": "[encoded data removed]"
    }
   },
   "cell_type": "markdown",
   "id": "60848afa",
   "metadata": {},
   "source": [
    "![image.png](attachment:image.png)"
   ]
  },
  {
   "cell_type": "code",
   "execution_count": 15,
   "id": "8d33db81",
   "metadata": {},
   "outputs": [
    {
     "data": {
      "text/plain": [
       "265915"
      ]
     },
     "execution_count": 15,
     "metadata": {},
     "output_type": "execute_result"
    }
   ],
   "source": [
    "#Quantidade de exames positivos\n",
    "f_x = df1.loc[df1['ResultadoExame'] == 'Positivo'].shape[0]\n",
    "f_x"
   ]
  },
  {
   "cell_type": "code",
   "execution_count": 16,
   "id": "f8d191fb",
   "metadata": {},
   "outputs": [],
   "source": [
    "#Sensibilidade Global\n",
    "sensitivity = 1 \n",
    "\n",
    "#Epsilons\n",
    "epsilons = [0.1, 0.5, 1.0, 10.0]"
   ]
  },
  {
   "cell_type": "code",
   "execution_count": 17,
   "id": "dc7a687c",
   "metadata": {},
   "outputs": [
    {
     "name": "stdout",
     "output_type": "stream",
     "text": [
      "para e=0.1 o ruido=-18.38\n",
      "para e=0.5 o ruido=-2.83\n",
      "para e=1.0 o ruido=-1.78\n",
      "para e=10.0 o ruido=0.04\n"
     ]
    }
   ],
   "source": [
    "#Laplace\n",
    "ruidos = list()\n",
    "for epsilon in epsilons:\n",
    "    ruido = np.random.laplace(loc=0, scale=sensitivity/epsilon)\n",
    "    ruidos.append(ruido)\n",
    "    \n",
    "    print(f'para e={epsilon} o ruido={ruido:.2f}')"
   ]
  },
  {
   "cell_type": "code",
   "execution_count": 18,
   "id": "87e774d1",
   "metadata": {},
   "outputs": [
    {
     "data": {
      "image/png": "[encoded data removed]",
      "text/plain": [
       "<Figure size 720x432 with 1 Axes>"
      ]
     },
     "metadata": {
      "needs_background": "light"
     },
     "output_type": "display_data"
    }
   ],
   "source": [
    "#Plot de Gráficos comparativos Original x Laplace \n",
    "\n",
    "#Valores Epsilons\n",
    "labels = [f'{epsilon}' for epsilon in epsilons]\n",
    "\n",
    "#Original\n",
    "original = [round(f_x, 2) for i in range(4)]\n",
    "\n",
    "#Adicionando ruido\n",
    "laplace = [round(f_x + ruido, 2) for ruido in ruidos]\n",
    "\n",
    "plt.figure(figsize=(10,6))\n",
    "\n",
    "labe = f'Com Ruido'\n",
    "plt.plot(epsilons, laplace, '-o', label=labe)\n",
    "labe1 = f'Sem Ruído'\n",
    "plt.plot(epsilons, original, '-o', label=labe1)\n",
    "\n",
    "plt.title(f'Saída Com e Sem Ruído')\n",
    "plt.legend(title='Tipo de Saída')\n",
    "plt.xlabel('Epsilon')\n",
    "plt.ylabel('Saída')\n",
    "\n",
    "plt.show()"
   ]
  },
  {
   "cell_type": "code",
   "execution_count": 19,
   "id": "4a3a38c3",
   "metadata": {},
   "outputs": [],
   "source": [
    "#Mescla variaveis \n",
    "dados = list(zip(laplace, labels))\n",
    "\n",
    "#Cria de dataframe\n",
    "df_Q2 = pd.DataFrame(dados, columns=['Exames_Positivos','Valor_Epsilon'])"
   ]
  },
  {
   "cell_type": "code",
   "execution_count": 20,
   "id": "059d4114",
   "metadata": {},
   "outputs": [
    {
     "data": {
      "text/html": [
       "<div>\n",
       "<style scoped>\n",
       "    .dataframe tbody tr th:only-of-type {\n",
       "        vertical-align: middle;\n",
       "    }\n",
       "\n",
       "    .dataframe tbody tr th {\n",
       "        vertical-align: top;\n",
       "    }\n",
       "\n",
       "    .dataframe thead th {\n",
       "        text-align: right;\n",
       "    }\n",
       "</style>\n",
       "<table border=\"1\" class=\"dataframe\">\n",
       "  <thead>\n",
       "    <tr style=\"text-align: right;\">\n",
       "      <th></th>\n",
       "      <th>Exames_Positivos</th>\n",
       "      <th>Valor_Epsilon</th>\n",
       "    </tr>\n",
       "  </thead>\n",
       "  <tbody>\n",
       "    <tr>\n",
       "      <th>0</th>\n",
       "      <td>265896.62</td>\n",
       "      <td>0.1</td>\n",
       "    </tr>\n",
       "    <tr>\n",
       "      <th>1</th>\n",
       "      <td>265912.17</td>\n",
       "      <td>0.5</td>\n",
       "    </tr>\n",
       "    <tr>\n",
       "      <th>2</th>\n",
       "      <td>265913.22</td>\n",
       "      <td>1.0</td>\n",
       "    </tr>\n",
       "    <tr>\n",
       "      <th>3</th>\n",
       "      <td>265915.04</td>\n",
       "      <td>10.0</td>\n",
       "    </tr>\n",
       "  </tbody>\n",
       "</table>\n",
       "</div>"
      ],
      "text/plain": [
       "   Exames_Positivos Valor_Epsilon\n",
       "0         265896.62           0.1\n",
       "1         265912.17           0.5\n",
       "2         265913.22           1.0\n",
       "3         265915.04          10.0"
      ]
     },
     "execution_count": 20,
     "metadata": {},
     "output_type": "execute_result"
    }
   ],
   "source": [
    "#Salva datraframe em arquivo csv\n",
    "df_Q2.to_csv('Consulta_1_1Q2.csv', index=False)\n",
    "df_Q2.head()"
   ]
  },
  {
   "attachments": {
    "image.png": {
     "image/png": "[encoded data removed]"
    }
   },
   "cell_type": "markdown",
   "id": "6ce9cd9a",
   "metadata": {},
   "source": [
    "![image.png](attachment:image.png)"
   ]
  },
  {
   "cell_type": "code",
   "execution_count": 21,
   "id": "3c5b42ef",
   "metadata": {},
   "outputs": [],
   "source": [
    "#Importando o dataset com mesoregiões\n",
    "df2 = pd.read_csv('dadoscovid.csv', sep=',')"
   ]
  },
  {
   "cell_type": "code",
   "execution_count": 22,
   "id": "0abba892",
   "metadata": {},
   "outputs": [
    {
     "data": {
      "text/html": [
       "<div>\n",
       "<style scoped>\n",
       "    .dataframe tbody tr th:only-of-type {\n",
       "        vertical-align: middle;\n",
       "    }\n",
       "\n",
       "    .dataframe tbody tr th {\n",
       "        vertical-align: top;\n",
       "    }\n",
       "\n",
       "    .dataframe thead th {\n",
       "        text-align: right;\n",
       "    }\n",
       "</style>\n",
       "<table border=\"1\" class=\"dataframe\">\n",
       "  <thead>\n",
       "    <tr style=\"text-align: right;\">\n",
       "      <th></th>\n",
       "      <th>identificador</th>\n",
       "      <th>genero</th>\n",
       "      <th>nascimento</th>\n",
       "      <th>idade</th>\n",
       "      <th>resultadoExame</th>\n",
       "      <th>municipio</th>\n",
       "      <th>codigoMunicipio</th>\n",
       "      <th>mesoregiao</th>\n",
       "    </tr>\n",
       "  </thead>\n",
       "  <tbody>\n",
       "    <tr>\n",
       "      <th>0</th>\n",
       "      <td>86343365d3538dad3d93736b78c986ab</td>\n",
       "      <td>MASCULINO</td>\n",
       "      <td>1978-04-20</td>\n",
       "      <td>44</td>\n",
       "      <td>Negativo</td>\n",
       "      <td>ABAIARA</td>\n",
       "      <td>230010</td>\n",
       "      <td>Sul Cearense</td>\n",
       "    </tr>\n",
       "    <tr>\n",
       "      <th>1</th>\n",
       "      <td>a1c274cc7c0bc943e2806148274f196d</td>\n",
       "      <td>MASCULINO</td>\n",
       "      <td>1990-05-20</td>\n",
       "      <td>32</td>\n",
       "      <td>Negativo</td>\n",
       "      <td>ABAIARA</td>\n",
       "      <td>230010</td>\n",
       "      <td>Sul Cearense</td>\n",
       "    </tr>\n",
       "    <tr>\n",
       "      <th>2</th>\n",
       "      <td>7c08d488bb6562bdc29861ede553e6b0</td>\n",
       "      <td>MASCULINO</td>\n",
       "      <td>1997-12-20</td>\n",
       "      <td>24</td>\n",
       "      <td>Positivo</td>\n",
       "      <td>ABAIARA</td>\n",
       "      <td>230010</td>\n",
       "      <td>Sul Cearense</td>\n",
       "    </tr>\n",
       "    <tr>\n",
       "      <th>3</th>\n",
       "      <td>6ce4fe9d51af40f15d20dc37491ee742</td>\n",
       "      <td>FEMININO</td>\n",
       "      <td>1995-02-20</td>\n",
       "      <td>27</td>\n",
       "      <td>Positivo</td>\n",
       "      <td>ABAIARA</td>\n",
       "      <td>230010</td>\n",
       "      <td>Sul Cearense</td>\n",
       "    </tr>\n",
       "    <tr>\n",
       "      <th>4</th>\n",
       "      <td>9276dfcc14fbe679a6ecc093d8e00b71</td>\n",
       "      <td>MASCULINO</td>\n",
       "      <td>1991-07-20</td>\n",
       "      <td>31</td>\n",
       "      <td>Positivo</td>\n",
       "      <td>ABAIARA</td>\n",
       "      <td>230010</td>\n",
       "      <td>Sul Cearense</td>\n",
       "    </tr>\n",
       "  </tbody>\n",
       "</table>\n",
       "</div>"
      ],
      "text/plain": [
       "                      identificador     genero  nascimento  idade  \\\n",
       "0  86343365d3538dad3d93736b78c986ab  MASCULINO  1978-04-20     44   \n",
       "1  a1c274cc7c0bc943e2806148274f196d  MASCULINO  1990-05-20     32   \n",
       "2  7c08d488bb6562bdc29861ede553e6b0  MASCULINO  1997-12-20     24   \n",
       "3  6ce4fe9d51af40f15d20dc37491ee742   FEMININO  1995-02-20     27   \n",
       "4  9276dfcc14fbe679a6ecc093d8e00b71  MASCULINO  1991-07-20     31   \n",
       "\n",
       "  resultadoExame municipio  codigoMunicipio    mesoregiao  \n",
       "0       Negativo   ABAIARA           230010  Sul Cearense  \n",
       "1       Negativo   ABAIARA           230010  Sul Cearense  \n",
       "2       Positivo   ABAIARA           230010  Sul Cearense  \n",
       "3       Positivo   ABAIARA           230010  Sul Cearense  \n",
       "4       Positivo   ABAIARA           230010  Sul Cearense  "
      ]
     },
     "execution_count": 22,
     "metadata": {},
     "output_type": "execute_result"
    }
   ],
   "source": [
    "df2.head()"
   ]
  },
  {
   "cell_type": "code",
   "execution_count": 23,
   "id": "7ce45316",
   "metadata": {},
   "outputs": [
    {
     "data": {
      "text/plain": [
       "mesoregiao\n",
       "Centro-Sul Cearense            1871\n",
       "Jaguaribe                      2099\n",
       "Metropolitana de Fortaleza    10626\n",
       "Noroeste Cearense              6054\n",
       "Norte Cearense                 2922\n",
       "Sertões Cearenses              3337\n",
       "Sul Cearense                   4484\n",
       "Name: resultadoExame, dtype: int64"
      ]
     },
     "execution_count": 23,
     "metadata": {},
     "output_type": "execute_result"
    }
   ],
   "source": [
    "#Agrupando mesoregião com exames realizados\n",
    "df2 = df2.groupby('mesoregiao')['resultadoExame'].count()\n",
    "df2"
   ]
  },
  {
   "cell_type": "code",
   "execution_count": 24,
   "id": "18c225a5",
   "metadata": {},
   "outputs": [],
   "source": [
    "#Inseri os valores de epsilon\n",
    "epsilon0 = 0.1\n",
    "epsilon1 = 0.5\n",
    "epsilon2 = 1.0\n",
    "epsilon3 = 10"
   ]
  },
  {
   "cell_type": "code",
   "execution_count": 25,
   "id": "25087888",
   "metadata": {},
   "outputs": [],
   "source": [
    "#listas criadas para salvar os dados gerados\n",
    "epsilonn = [epsilon0, epsilon1, epsilon2, epsilon3]\n",
    "epsilon_01 = []\n",
    "epsilon_05 = []\n",
    "epsilon_1 = []\n",
    "epsilon_10 = []\n",
    "resultado = []\n",
    "count = 0\n",
    "meso = []"
   ]
  },
  {
   "cell_type": "code",
   "execution_count": 26,
   "id": "a1e5f6b8",
   "metadata": {},
   "outputs": [
    {
     "name": "stdout",
     "output_type": "stream",
     "text": [
      "Centro-Sul Cearense\n",
      "\n",
      "Original:  1871\n",
      "EP =  0.1 :  1871.3292918321565\n",
      "EP =  0.5 :  1871.560581537561\n",
      "EP =  1.0 :  1869.3734566297555\n",
      "EP =  10 :  1871.0187041870947\n",
      "\n",
      "--------------------------------\n",
      "Jaguaribe\n",
      "\n",
      "Original:  2099\n",
      "EP =  0.1 :  2092.86580640948\n",
      "EP =  0.5 :  2100.3880463595874\n",
      "EP =  1.0 :  2098.4594923128184\n",
      "EP =  10 :  2098.96840251913\n",
      "\n",
      "--------------------------------\n",
      "Metropolitana de Fortaleza\n",
      "\n",
      "Original:  10626\n",
      "EP =  0.1 :  10619.56132248547\n",
      "EP =  0.5 :  10625.739279619505\n",
      "EP =  1.0 :  10623.053032901738\n",
      "EP =  10 :  10625.933864298524\n",
      "\n",
      "--------------------------------\n",
      "Noroeste Cearense\n",
      "\n",
      "Original:  6054\n",
      "EP =  0.1 :  6030.131839892157\n",
      "EP =  0.5 :  6054.020280183822\n",
      "EP =  1.0 :  6055.626872982725\n",
      "EP =  10 :  6054.075742838848\n",
      "\n",
      "--------------------------------\n",
      "Norte Cearense\n",
      "\n",
      "Original:  2922\n",
      "EP =  0.1 :  2919.8407040680995\n",
      "EP =  0.5 :  2921.4436647759935\n",
      "EP =  1.0 :  2922.137103005405\n",
      "EP =  10 :  2922.0259249395417\n",
      "\n",
      "--------------------------------\n",
      "Sertões Cearenses\n",
      "\n",
      "Original:  3337\n",
      "EP =  0.1 :  3321.3264311095527\n",
      "EP =  0.5 :  3336.071324696917\n",
      "EP =  1.0 :  3335.916453198892\n",
      "EP =  10 :  3336.9137403329573\n",
      "\n",
      "--------------------------------\n",
      "Sul Cearense\n",
      "\n",
      "Original:  4484\n",
      "EP =  0.1 :  4477.100428463738\n",
      "EP =  0.5 :  4483.113565369318\n",
      "EP =  1.0 :  4485.2012523697385\n",
      "EP =  10 :  4483.868011312386\n",
      "\n",
      "--------------------------------\n"
     ]
    }
   ],
   "source": [
    "#Adiciona ruído e salva em listas \n",
    "for i in range(len(df2)):\n",
    "    print(df2.index[i])\n",
    "    print(\"\\nOriginal: \", df2[i])\n",
    "    meso = df2.index\n",
    "    for j in range(len(epsilonn)):\n",
    "        resultado.append(df2[i] + np.random.laplace(loc=0, scale=sensitivity/epsilonn[j]))\n",
    "        print('EP = ', epsilonn[j], ': ', resultado[count])\n",
    "        \n",
    "        if (epsilonn[j] == 0.1):\n",
    "            epsilon_01.append(resultado[count])\n",
    "        elif (epsilonn[j] == 0.5):\n",
    "            epsilon_05.append(resultado[count])\n",
    "        elif (epsilonn[j] == 1.0):\n",
    "            epsilon_1.append(resultado[count])\n",
    "        elif (epsilonn[j] == 10):\n",
    "            epsilon_10.append(resultado[count])\n",
    "        \n",
    "        count += 1\n",
    "        \n",
    "    dados = list(zip(meso, epsilon_01, epsilon_05, epsilon_1, epsilon_10))\n",
    "    print('\\n--------------------------------')"
   ]
  },
  {
   "cell_type": "code",
   "execution_count": 27,
   "id": "96edad0d",
   "metadata": {},
   "outputs": [
    {
     "data": {
      "text/html": [
       "<div>\n",
       "<style scoped>\n",
       "    .dataframe tbody tr th:only-of-type {\n",
       "        vertical-align: middle;\n",
       "    }\n",
       "\n",
       "    .dataframe tbody tr th {\n",
       "        vertical-align: top;\n",
       "    }\n",
       "\n",
       "    .dataframe thead th {\n",
       "        text-align: right;\n",
       "    }\n",
       "</style>\n",
       "<table border=\"1\" class=\"dataframe\">\n",
       "  <thead>\n",
       "    <tr style=\"text-align: right;\">\n",
       "      <th></th>\n",
       "      <th>Mesoregião</th>\n",
       "      <th>EP = 0.1</th>\n",
       "      <th>EP = 0.5</th>\n",
       "      <th>EP = 1.0</th>\n",
       "      <th>EP = 10.0</th>\n",
       "    </tr>\n",
       "  </thead>\n",
       "  <tbody>\n",
       "    <tr>\n",
       "      <th>0</th>\n",
       "      <td>Centro-Sul Cearense</td>\n",
       "      <td>1871.329292</td>\n",
       "      <td>1871.560582</td>\n",
       "      <td>1869.373457</td>\n",
       "      <td>1871.018704</td>\n",
       "    </tr>\n",
       "    <tr>\n",
       "      <th>1</th>\n",
       "      <td>Jaguaribe</td>\n",
       "      <td>2092.865806</td>\n",
       "      <td>2100.388046</td>\n",
       "      <td>2098.459492</td>\n",
       "      <td>2098.968403</td>\n",
       "    </tr>\n",
       "    <tr>\n",
       "      <th>2</th>\n",
       "      <td>Metropolitana de Fortaleza</td>\n",
       "      <td>10619.561322</td>\n",
       "      <td>10625.739280</td>\n",
       "      <td>10623.053033</td>\n",
       "      <td>10625.933864</td>\n",
       "    </tr>\n",
       "    <tr>\n",
       "      <th>3</th>\n",
       "      <td>Noroeste Cearense</td>\n",
       "      <td>6030.131840</td>\n",
       "      <td>6054.020280</td>\n",
       "      <td>6055.626873</td>\n",
       "      <td>6054.075743</td>\n",
       "    </tr>\n",
       "    <tr>\n",
       "      <th>4</th>\n",
       "      <td>Norte Cearense</td>\n",
       "      <td>2919.840704</td>\n",
       "      <td>2921.443665</td>\n",
       "      <td>2922.137103</td>\n",
       "      <td>2922.025925</td>\n",
       "    </tr>\n",
       "    <tr>\n",
       "      <th>5</th>\n",
       "      <td>Sertões Cearenses</td>\n",
       "      <td>3321.326431</td>\n",
       "      <td>3336.071325</td>\n",
       "      <td>3335.916453</td>\n",
       "      <td>3336.913740</td>\n",
       "    </tr>\n",
       "    <tr>\n",
       "      <th>6</th>\n",
       "      <td>Sul Cearense</td>\n",
       "      <td>4477.100428</td>\n",
       "      <td>4483.113565</td>\n",
       "      <td>4485.201252</td>\n",
       "      <td>4483.868011</td>\n",
       "    </tr>\n",
       "  </tbody>\n",
       "</table>\n",
       "</div>"
      ],
      "text/plain": [
       "                   Mesoregião      EP = 0.1      EP = 0.5      EP = 1.0  \\\n",
       "0         Centro-Sul Cearense   1871.329292   1871.560582   1869.373457   \n",
       "1                   Jaguaribe   2092.865806   2100.388046   2098.459492   \n",
       "2  Metropolitana de Fortaleza  10619.561322  10625.739280  10623.053033   \n",
       "3           Noroeste Cearense   6030.131840   6054.020280   6055.626873   \n",
       "4              Norte Cearense   2919.840704   2921.443665   2922.137103   \n",
       "5           Sertões Cearenses   3321.326431   3336.071325   3335.916453   \n",
       "6                Sul Cearense   4477.100428   4483.113565   4485.201252   \n",
       "\n",
       "      EP = 10.0  \n",
       "0   1871.018704  \n",
       "1   2098.968403  \n",
       "2  10625.933864  \n",
       "3   6054.075743  \n",
       "4   2922.025925  \n",
       "5   3336.913740  \n",
       "6   4483.868011  "
      ]
     },
     "execution_count": 27,
     "metadata": {},
     "output_type": "execute_result"
    }
   ],
   "source": [
    "#Salvando os dados em um novo DF\n",
    "df_meso = pd.DataFrame(dados, columns=['Mesoregião','EP = 0.1','EP = 0.5', 'EP = 1.0', 'EP = 10.0'])\n",
    "\n",
    "#Salva datraframe em arquivo csv\n",
    "df_meso.to_csv('Consulta_1_1Q3.csv', index=False)\n",
    "df_meso"
   ]
  },
  {
   "cell_type": "code",
   "execution_count": 28,
   "id": "a073d040",
   "metadata": {},
   "outputs": [
    {
     "data": {
      "image/png": "[encoded data removed]",
      "text/plain": [
       "<Figure size 1224x432 with 1 Axes>"
      ]
     },
     "metadata": {
      "needs_background": "light"
     },
     "output_type": "display_data"
    }
   ],
   "source": [
    "#Plotagem Epsilon = 0.1\n",
    "labels = [df2.index[i] for i in range(7)]\n",
    "original = [round(df2[i], 2) for i in range(7)]\n",
    "laplace = epsilon_01\n",
    "\n",
    "x = np.arange(len(labels))\n",
    "width = 0.35\n",
    "plt.figure(figsize=(17,6))\n",
    "plt.bar(x - width / 2, original, width, label='Dados Originais')\n",
    "plt.bar(x + width / 2, laplace, width, label='Dados Laplace')\n",
    "\n",
    "plt.xticks(x, labels)\n",
    "plt.title(f'Epsilon = 0.1')\n",
    "plt.legend(title= 'Tipo de Saída')\n",
    "plt.show()"
   ]
  },
  {
   "cell_type": "code",
   "execution_count": 29,
   "id": "0f3feff2",
   "metadata": {},
   "outputs": [
    {
     "data": {
      "image/png": "[encoded data removed]",
      "text/plain": [
       "<Figure size 1224x432 with 1 Axes>"
      ]
     },
     "metadata": {
      "needs_background": "light"
     },
     "output_type": "display_data"
    }
   ],
   "source": [
    "#Plotagem Epsilon = 0.5\n",
    "labels = [df2.index[i] for i in range(7)]\n",
    "original = [round(df2[i], 2) for i in range(7)]\n",
    "laplace = epsilon_05\n",
    "\n",
    "x = np.arange(len(labels))\n",
    "width = 0.35\n",
    "plt.figure(figsize=(17,6))\n",
    "plt.bar(x - width / 2, original, width, label='Dados Originais')\n",
    "plt.bar(x + width / 2, laplace, width, label='Dados Laplace')\n",
    "\n",
    "plt.xticks(x, labels)\n",
    "plt.title(f'Epsilon = 0.5')\n",
    "plt.legend(title= 'Tipo de Saída')\n",
    "plt.show()"
   ]
  },
  {
   "cell_type": "code",
   "execution_count": 30,
   "id": "6420ed4d",
   "metadata": {},
   "outputs": [
    {
     "data": {
      "image/png": "[encoded data removed]",
      "text/plain": [
       "<Figure size 1224x432 with 1 Axes>"
      ]
     },
     "metadata": {
      "needs_background": "light"
     },
     "output_type": "display_data"
    }
   ],
   "source": [
    "#Plotagem Epsilon = 1.0\n",
    "labels = [df2.index[i] for i in range(7)]\n",
    "original = [round(df2[i], 2) for i in range(7)]\n",
    "laplace = epsilon_1\n",
    "\n",
    "x = np.arange(len(labels))\n",
    "width = 0.35\n",
    "plt.figure(figsize=(17,6))\n",
    "plt.bar(x - width / 2, original, width, label='Dados Originais')\n",
    "plt.bar(x + width / 2, laplace, width, label='Dados Laplace')\n",
    "\n",
    "plt.xticks(x, labels)\n",
    "plt.title(f'Epsilon = 1.0')\n",
    "plt.legend(title= 'Tipo de Saída')\n",
    "plt.show()"
   ]
  },
  {
   "cell_type": "code",
   "execution_count": 31,
   "id": "67bb8e05",
   "metadata": {},
   "outputs": [
    {
     "data": {
      "image/png": "[encoded data removed]",
      "text/plain": [
       "<Figure size 1224x432 with 1 Axes>"
      ]
     },
     "metadata": {
      "needs_background": "light"
     },
     "output_type": "display_data"
    }
   ],
   "source": [
    "#Plotagem Epsilon = 10.0\n",
    "labels = [df2.index[i] for i in range(7)]\n",
    "original = [round(df2[i], 2) for i in range(7)]\n",
    "laplace = epsilon_10\n",
    "\n",
    "x = np.arange(len(labels))\n",
    "width = 0.35\n",
    "plt.figure(figsize=(17,6))\n",
    "plt.bar(x - width / 2, original, width, label='Dados Originais')\n",
    "plt.bar(x + width / 2, laplace, width, label='Dados Laplace')\n",
    "\n",
    "plt.xticks(x, labels)\n",
    "plt.title(f'Epsilon = 10.0')\n",
    "plt.legend(title= 'Tipo de Saída')\n",
    "plt.show()"
   ]
  },
  {
   "cell_type": "markdown",
   "id": "35e958fa",
   "metadata": {},
   "source": [
    "# 1.2 Mecanismo Exponencial - Especificação\n"
   ]
  },
  {
   "cell_type": "code",
   "execution_count": 32,
   "id": "d14defc3",
   "metadata": {},
   "outputs": [],
   "source": [
    "# Função Score\n",
    "def u(data, option):\n",
    "    return data.value_counts()[option] / data.shape[0]"
   ]
  },
  {
   "cell_type": "code",
   "execution_count": 33,
   "id": "70a9ac7b",
   "metadata": {},
   "outputs": [],
   "source": [
    "# Função exponencial \n",
    "def exponential(df1, options, u, sensitivity, epsilon):\n",
    "    # calcula a função de utilidade (score) de cada elemento em opções\n",
    "    scores = [u(df1, option) for option in options]\n",
    "    \n",
    "    # Calcula a probabilidade de cada elemento baseado no seu score\n",
    "    probabilities = [np.exp(epsilon * score / (2 * sensitivity)) for score in scores]\n",
    "    \n",
    "    # Normaliza as probabilidades pra somar 1\n",
    "    probabilities = probabilities / np.linalg.norm(probabilities, ord=1)\n",
    "\n",
    "    # escolhe um elemento de opções baseado na sua probabilidade\n",
    "    return np.random.choice(options, 1, p=probabilities)[0]"
   ]
  },
  {
   "attachments": {
    "image.png": {
     "image/png": "[encoded data removed]"
    }
   },
   "cell_type": "markdown",
   "id": "0ce6a3a1",
   "metadata": {},
   "source": [
    "![image.png](attachment:image.png)"
   ]
  },
  {
   "cell_type": "code",
   "execution_count": 34,
   "id": "526ca704",
   "metadata": {},
   "outputs": [
    {
     "data": {
      "text/plain": [
       "Municipio          ResultadoExame\n",
       "TARRAFAS           Positivo             50\n",
       "PENAFORTE          Positivo             58\n",
       "ARNEIROZ           Positivo             59\n",
       "ANTONINA DO NORTE  Positivo             64\n",
       "AIUABA             Positivo             71\n",
       "                                     ...  \n",
       "MARACANAU          Positivo           7273\n",
       "CRATO              Positivo           8488\n",
       "SOBRAL             Positivo           9990\n",
       "JUAZEIRO DO NORTE  Positivo          12298\n",
       "FORTALEZA          Positivo          52558\n",
       "Name: ResultadoExame, Length: 184, dtype: int64"
      ]
     },
     "execution_count": 34,
     "metadata": {},
     "output_type": "execute_result"
    }
   ],
   "source": [
    "#Municipio com menor número de casos positivos\n",
    "df1.query('ResultadoExame == \"Positivo\"').groupby('Municipio')['ResultadoExame'].value_counts().sort_values(ascending = True) "
   ]
  },
  {
   "cell_type": "code",
   "execution_count": 35,
   "id": "e1a88489",
   "metadata": {},
   "outputs": [],
   "source": [
    "#Criando novo df com base nos resultados positivos\n",
    "options = df1['Municipio'].unique()\n",
    "def func_utilidade(data, option):\n",
    "    return data.query('ResultadoExame == \"Positivo\"').value_counts(['Municipio'])[option] / data.shape[0]"
   ]
  },
  {
   "cell_type": "code",
   "execution_count": 36,
   "id": "763ac0c5",
   "metadata": {},
   "outputs": [],
   "source": [
    "#epsilons\n",
    "epsilons = [0.1, 0.5, 1.0, 10.0] \n",
    " \n",
    "# sensibilidade\n",
    "sensitivity = 1 "
   ]
  },
  {
   "cell_type": "code",
   "execution_count": 37,
   "id": "ff0c48b2",
   "metadata": {},
   "outputs": [],
   "source": [
    "#Mecanismo Exponencial \n",
    "all_e_results = {}\n",
    "\n",
    "for i in epsilons:\n",
    "    result = []\n",
    "    for j in range(10):\n",
    "        result.append(exponential(df1, options, func_utilidade, sensitivity, i))\n",
    "    all_e_results[str(i)] = result"
   ]
  },
  {
   "cell_type": "code",
   "execution_count": 38,
   "id": "4bf610c4",
   "metadata": {},
   "outputs": [],
   "source": [
    "#Salvando os dados em um novo DF\n",
    "df3 = pd.DataFrame(all_e_results)"
   ]
  },
  {
   "cell_type": "code",
   "execution_count": 39,
   "id": "04d280f8",
   "metadata": {},
   "outputs": [
    {
     "data": {
      "text/html": [
       "<div>\n",
       "<style scoped>\n",
       "    .dataframe tbody tr th:only-of-type {\n",
       "        vertical-align: middle;\n",
       "    }\n",
       "\n",
       "    .dataframe tbody tr th {\n",
       "        vertical-align: top;\n",
       "    }\n",
       "\n",
       "    .dataframe thead th {\n",
       "        text-align: right;\n",
       "    }\n",
       "</style>\n",
       "<table border=\"1\" class=\"dataframe\">\n",
       "  <thead>\n",
       "    <tr style=\"text-align: right;\">\n",
       "      <th></th>\n",
       "      <th>0.1</th>\n",
       "      <th>0.5</th>\n",
       "      <th>1.0</th>\n",
       "      <th>10.0</th>\n",
       "    </tr>\n",
       "  </thead>\n",
       "  <tbody>\n",
       "    <tr>\n",
       "      <th>0</th>\n",
       "      <td>HIDROLANDIA</td>\n",
       "      <td>FORTALEZA</td>\n",
       "      <td>UMARI</td>\n",
       "      <td>ITATIRA</td>\n",
       "    </tr>\n",
       "    <tr>\n",
       "      <th>1</th>\n",
       "      <td>CATARINA</td>\n",
       "      <td>ALCANTARAS</td>\n",
       "      <td>CAPISTRANO</td>\n",
       "      <td>CARNAUBAL</td>\n",
       "    </tr>\n",
       "    <tr>\n",
       "      <th>2</th>\n",
       "      <td>MILAGRES</td>\n",
       "      <td>SENADOR SA</td>\n",
       "      <td>ACARAU</td>\n",
       "      <td>ACOPIARA</td>\n",
       "    </tr>\n",
       "    <tr>\n",
       "      <th>3</th>\n",
       "      <td>UMARI</td>\n",
       "      <td>APUIARES</td>\n",
       "      <td>SANTA QUITERIA</td>\n",
       "      <td>UBAJARA</td>\n",
       "    </tr>\n",
       "    <tr>\n",
       "      <th>4</th>\n",
       "      <td>BAIXIO</td>\n",
       "      <td>MILHA</td>\n",
       "      <td>BANABUIU</td>\n",
       "      <td>GUARACIABA DO NORTE</td>\n",
       "    </tr>\n",
       "    <tr>\n",
       "      <th>5</th>\n",
       "      <td>PEDRA BRANCA</td>\n",
       "      <td>ARNEIROZ</td>\n",
       "      <td>PALHANO</td>\n",
       "      <td>CAUCAIA</td>\n",
       "    </tr>\n",
       "    <tr>\n",
       "      <th>6</th>\n",
       "      <td>SAO JOAO DO JAGUARIBE</td>\n",
       "      <td>SAO BENEDITO</td>\n",
       "      <td>SANTA QUITERIA</td>\n",
       "      <td>JUAZEIRO DO NORTE</td>\n",
       "    </tr>\n",
       "    <tr>\n",
       "      <th>7</th>\n",
       "      <td>MARANGUAPE</td>\n",
       "      <td>CRUZ</td>\n",
       "      <td>IRAUCUBA</td>\n",
       "      <td>ANTONINA DO NORTE</td>\n",
       "    </tr>\n",
       "    <tr>\n",
       "      <th>8</th>\n",
       "      <td>ALTANEIRA</td>\n",
       "      <td>CAMOCIM</td>\n",
       "      <td>AMONTADA</td>\n",
       "      <td>VARZEA ALEGRE</td>\n",
       "    </tr>\n",
       "    <tr>\n",
       "      <th>9</th>\n",
       "      <td>TARRAFAS</td>\n",
       "      <td>JUAZEIRO DO NORTE</td>\n",
       "      <td>MUCAMBO</td>\n",
       "      <td>CARIDADE</td>\n",
       "    </tr>\n",
       "  </tbody>\n",
       "</table>\n",
       "</div>"
      ],
      "text/plain": [
       "                     0.1                0.5             1.0  \\\n",
       "0            HIDROLANDIA          FORTALEZA           UMARI   \n",
       "1               CATARINA         ALCANTARAS      CAPISTRANO   \n",
       "2               MILAGRES         SENADOR SA          ACARAU   \n",
       "3                  UMARI           APUIARES  SANTA QUITERIA   \n",
       "4                 BAIXIO              MILHA        BANABUIU   \n",
       "5           PEDRA BRANCA           ARNEIROZ         PALHANO   \n",
       "6  SAO JOAO DO JAGUARIBE       SAO BENEDITO  SANTA QUITERIA   \n",
       "7             MARANGUAPE               CRUZ        IRAUCUBA   \n",
       "8              ALTANEIRA            CAMOCIM        AMONTADA   \n",
       "9               TARRAFAS  JUAZEIRO DO NORTE         MUCAMBO   \n",
       "\n",
       "                  10.0  \n",
       "0              ITATIRA  \n",
       "1            CARNAUBAL  \n",
       "2             ACOPIARA  \n",
       "3              UBAJARA  \n",
       "4  GUARACIABA DO NORTE  \n",
       "5              CAUCAIA  \n",
       "6    JUAZEIRO DO NORTE  \n",
       "7    ANTONINA DO NORTE  \n",
       "8        VARZEA ALEGRE  \n",
       "9             CARIDADE  "
      ]
     },
     "execution_count": 39,
     "metadata": {},
     "output_type": "execute_result"
    }
   ],
   "source": [
    "#Salva datraframe em arquivo csv\n",
    "df3.to_csv('Consulta_1_2Q1.csv', index=False)\n",
    "df3.head(25)"
   ]
  },
  {
   "cell_type": "code",
   "execution_count": 40,
   "id": "22a9c644",
   "metadata": {},
   "outputs": [
    {
     "name": "stdout",
     "output_type": "stream",
     "text": [
      "Histograma Para Epsilon: 0.1\n"
     ]
    },
    {
     "data": {
      "image/png": "[encoded data removed]",
      "text/plain": [
       "<Figure size 432x288 with 1 Axes>"
      ]
     },
     "metadata": {
      "needs_background": "light"
     },
     "output_type": "display_data"
    },
    {
     "name": "stdout",
     "output_type": "stream",
     "text": [
      "Histograma Para Epsilon: 0.5\n"
     ]
    },
    {
     "data": {
      "image/png": "[encoded data removed]",
      "text/plain": [
       "<Figure size 432x288 with 1 Axes>"
      ]
     },
     "metadata": {
      "needs_background": "light"
     },
     "output_type": "display_data"
    },
    {
     "name": "stdout",
     "output_type": "stream",
     "text": [
      "Histograma Para Epsilon: 1.0\n"
     ]
    },
    {
     "data": {
      "image/png": "[encoded data removed]",
      "text/plain": [
       "<Figure size 432x288 with 1 Axes>"
      ]
     },
     "metadata": {
      "needs_background": "light"
     },
     "output_type": "display_data"
    },
    {
     "name": "stdout",
     "output_type": "stream",
     "text": [
      "Histograma Para Epsilon: 10.0\n"
     ]
    },
    {
     "data": {
      "image/png": "[encoded data removed]",
      "text/plain": [
       "<Figure size 432x288 with 1 Axes>"
      ]
     },
     "metadata": {
      "needs_background": "light"
     },
     "output_type": "display_data"
    }
   ],
   "source": [
    "#Plot Histograma\n",
    "for i in epsilons:\n",
    "    print(f'Histograma Para Epsilon: {i}')\n",
    "    sns.histplot(data=df3, y=str(i))\n",
    "    plt.show() "
   ]
  },
  {
   "attachments": {
    "image-2.png": {
     "image/png": "[encoded data removed]"
    }
   },
   "cell_type": "markdown",
   "id": "1f93a3e4",
   "metadata": {},
   "source": [
    "![image-2.png](attachment:image-2.png)"
   ]
  },
  {
   "cell_type": "code",
   "execution_count": 41,
   "id": "92fd89be",
   "metadata": {},
   "outputs": [
    {
     "data": {
      "text/html": [
       "<div>\n",
       "<style scoped>\n",
       "    .dataframe tbody tr th:only-of-type {\n",
       "        vertical-align: middle;\n",
       "    }\n",
       "\n",
       "    .dataframe tbody tr th {\n",
       "        vertical-align: top;\n",
       "    }\n",
       "\n",
       "    .dataframe thead th {\n",
       "        text-align: right;\n",
       "    }\n",
       "</style>\n",
       "<table border=\"1\" class=\"dataframe\">\n",
       "  <thead>\n",
       "    <tr style=\"text-align: right;\">\n",
       "      <th></th>\n",
       "      <th>Identificador</th>\n",
       "      <th>CodigoMunicipio</th>\n",
       "      <th>Municipio</th>\n",
       "      <th>Estado</th>\n",
       "      <th>Genero</th>\n",
       "      <th>Nascimento</th>\n",
       "      <th>ResultadoExame</th>\n",
       "      <th>Idade</th>\n",
       "      <th>Decada</th>\n",
       "    </tr>\n",
       "  </thead>\n",
       "  <tbody>\n",
       "    <tr>\n",
       "      <th>0</th>\n",
       "      <td>c3ba634113e4b5eb0e3eaae93b09759b</td>\n",
       "      <td>231290.0</td>\n",
       "      <td>SOBRAL</td>\n",
       "      <td>CE</td>\n",
       "      <td>MASCULINO</td>\n",
       "      <td>2003-08-14</td>\n",
       "      <td>Negativo</td>\n",
       "      <td>19</td>\n",
       "      <td>2000</td>\n",
       "    </tr>\n",
       "    <tr>\n",
       "      <th>1</th>\n",
       "      <td>ac84809bfc89b992a0a0221e50b135c0</td>\n",
       "      <td>230960.0</td>\n",
       "      <td>PACAJUS</td>\n",
       "      <td>CE</td>\n",
       "      <td>MASCULINO</td>\n",
       "      <td>1983-11-07</td>\n",
       "      <td>Negativo</td>\n",
       "      <td>39</td>\n",
       "      <td>1980</td>\n",
       "    </tr>\n",
       "    <tr>\n",
       "      <th>2</th>\n",
       "      <td>28ccfaa0c53b792cd1ffa0b7e535f617</td>\n",
       "      <td>230523.0</td>\n",
       "      <td>HORIZONTE</td>\n",
       "      <td>CE</td>\n",
       "      <td>FEMININO</td>\n",
       "      <td>1982-01-14</td>\n",
       "      <td>Negativo</td>\n",
       "      <td>40</td>\n",
       "      <td>1980</td>\n",
       "    </tr>\n",
       "    <tr>\n",
       "      <th>3</th>\n",
       "      <td>9683fc5fd2c0f7b72fa92ffd259d738a</td>\n",
       "      <td>230440.0</td>\n",
       "      <td>FORTALEZA</td>\n",
       "      <td>CE</td>\n",
       "      <td>MASCULINO</td>\n",
       "      <td>1992-03-12</td>\n",
       "      <td>Negativo</td>\n",
       "      <td>30</td>\n",
       "      <td>1990</td>\n",
       "    </tr>\n",
       "    <tr>\n",
       "      <th>4</th>\n",
       "      <td>e257ccdc48289f02e047cbf046251319</td>\n",
       "      <td>230370.0</td>\n",
       "      <td>CAUCAIA</td>\n",
       "      <td>CE</td>\n",
       "      <td>MASCULINO</td>\n",
       "      <td>1970-03-06</td>\n",
       "      <td>Negativo</td>\n",
       "      <td>52</td>\n",
       "      <td>1970</td>\n",
       "    </tr>\n",
       "    <tr>\n",
       "      <th>...</th>\n",
       "      <td>...</td>\n",
       "      <td>...</td>\n",
       "      <td>...</td>\n",
       "      <td>...</td>\n",
       "      <td>...</td>\n",
       "      <td>...</td>\n",
       "      <td>...</td>\n",
       "      <td>...</td>\n",
       "      <td>...</td>\n",
       "    </tr>\n",
       "    <tr>\n",
       "      <th>879538</th>\n",
       "      <td>034184a3bba5a9d9020c6f78287cfb30</td>\n",
       "      <td>230440.0</td>\n",
       "      <td>FORTALEZA</td>\n",
       "      <td>CE</td>\n",
       "      <td>FEMININO</td>\n",
       "      <td>1982-12-08</td>\n",
       "      <td>Positivo</td>\n",
       "      <td>40</td>\n",
       "      <td>1980</td>\n",
       "    </tr>\n",
       "    <tr>\n",
       "      <th>879539</th>\n",
       "      <td>7f4c28d219dd03de2457b16de64563a0</td>\n",
       "      <td>230440.0</td>\n",
       "      <td>FORTALEZA</td>\n",
       "      <td>CE</td>\n",
       "      <td>FEMININO</td>\n",
       "      <td>1980-12-02</td>\n",
       "      <td>Negativo</td>\n",
       "      <td>42</td>\n",
       "      <td>1980</td>\n",
       "    </tr>\n",
       "    <tr>\n",
       "      <th>879540</th>\n",
       "      <td>4f8257be1fefe7e9a3b17f08247792c6</td>\n",
       "      <td>230440.0</td>\n",
       "      <td>FORTALEZA</td>\n",
       "      <td>CE</td>\n",
       "      <td>FEMININO</td>\n",
       "      <td>1988-05-17</td>\n",
       "      <td>Provável</td>\n",
       "      <td>34</td>\n",
       "      <td>1980</td>\n",
       "    </tr>\n",
       "    <tr>\n",
       "      <th>879541</th>\n",
       "      <td>2b610df8ede251af2e17a6ac07726678</td>\n",
       "      <td>230410.0</td>\n",
       "      <td>CRATEUS</td>\n",
       "      <td>CE</td>\n",
       "      <td>FEMININO</td>\n",
       "      <td>1970-09-28</td>\n",
       "      <td>Negativo</td>\n",
       "      <td>52</td>\n",
       "      <td>1970</td>\n",
       "    </tr>\n",
       "    <tr>\n",
       "      <th>879542</th>\n",
       "      <td>d4ba826d7f018ef730718faf76668d73</td>\n",
       "      <td>230730.0</td>\n",
       "      <td>JUAZEIRO DO NORTE</td>\n",
       "      <td>CE</td>\n",
       "      <td>FEMININO</td>\n",
       "      <td>1998-12-14</td>\n",
       "      <td>Positivo</td>\n",
       "      <td>24</td>\n",
       "      <td>1990</td>\n",
       "    </tr>\n",
       "  </tbody>\n",
       "</table>\n",
       "<p>879490 rows × 9 columns</p>\n",
       "</div>"
      ],
      "text/plain": [
       "                           Identificador  CodigoMunicipio          Municipio  \\\n",
       "0       c3ba634113e4b5eb0e3eaae93b09759b         231290.0             SOBRAL   \n",
       "1       ac84809bfc89b992a0a0221e50b135c0         230960.0            PACAJUS   \n",
       "2       28ccfaa0c53b792cd1ffa0b7e535f617         230523.0          HORIZONTE   \n",
       "3       9683fc5fd2c0f7b72fa92ffd259d738a         230440.0          FORTALEZA   \n",
       "4       e257ccdc48289f02e047cbf046251319         230370.0            CAUCAIA   \n",
       "...                                  ...              ...                ...   \n",
       "879538  034184a3bba5a9d9020c6f78287cfb30         230440.0          FORTALEZA   \n",
       "879539  7f4c28d219dd03de2457b16de64563a0         230440.0          FORTALEZA   \n",
       "879540  4f8257be1fefe7e9a3b17f08247792c6         230440.0          FORTALEZA   \n",
       "879541  2b610df8ede251af2e17a6ac07726678         230410.0            CRATEUS   \n",
       "879542  d4ba826d7f018ef730718faf76668d73         230730.0  JUAZEIRO DO NORTE   \n",
       "\n",
       "       Estado     Genero Nascimento ResultadoExame  Idade  Decada  \n",
       "0          CE  MASCULINO 2003-08-14       Negativo     19    2000  \n",
       "1          CE  MASCULINO 1983-11-07       Negativo     39    1980  \n",
       "2          CE   FEMININO 1982-01-14       Negativo     40    1980  \n",
       "3          CE  MASCULINO 1992-03-12       Negativo     30    1990  \n",
       "4          CE  MASCULINO 1970-03-06       Negativo     52    1970  \n",
       "...       ...        ...        ...            ...    ...     ...  \n",
       "879538     CE   FEMININO 1982-12-08       Positivo     40    1980  \n",
       "879539     CE   FEMININO 1980-12-02       Negativo     42    1980  \n",
       "879540     CE   FEMININO 1988-05-17       Provável     34    1980  \n",
       "879541     CE   FEMININO 1970-09-28       Negativo     52    1970  \n",
       "879542     CE   FEMININO 1998-12-14       Positivo     24    1990  \n",
       "\n",
       "[879490 rows x 9 columns]"
      ]
     },
     "execution_count": 41,
     "metadata": {},
     "output_type": "execute_result"
    }
   ],
   "source": [
    "#Calculo de decada\n",
    "df1['Decada'] = (df1['Nascimento'].dt.year - ((df1['Nascimento'].dt.year % 10) % 100 / 10) * 10)\n",
    "df1['Decada'] = df1['Decada'].astype(int)\n",
    "df1"
   ]
  },
  {
   "cell_type": "code",
   "execution_count": 42,
   "id": "bd7aa5cb",
   "metadata": {},
   "outputs": [
    {
     "data": {
      "text/plain": [
       "Decada  ResultadoExame\n",
       "1980    Negativo          126187\n",
       "1990    Negativo          119330\n",
       "1970    Negativo           92051\n",
       "1960    Negativo           63206\n",
       "2000    Negativo           45497\n",
       "1950    Negativo           35324\n",
       "2010    Negativo           25935\n",
       "1940    Negativo           19710\n",
       "1930    Negativo           10010\n",
       "1920    Negativo            2427\n",
       "2020    Negativo            2362\n",
       "1910    Negativo             163\n",
       "1900    Negativo               4\n",
       "Name: ResultadoExame, dtype: int64"
      ]
     },
     "execution_count": 42,
     "metadata": {},
     "output_type": "execute_result"
    }
   ],
   "source": [
    "#Coletando somente os resultados Negativos de cada decada\n",
    "df1.query('ResultadoExame == \"Negativo\"').groupby('Decada')['ResultadoExame'].value_counts().sort_values(ascending = False)"
   ]
  },
  {
   "cell_type": "code",
   "execution_count": 43,
   "id": "eaf5341d",
   "metadata": {},
   "outputs": [],
   "source": [
    "#Removendo os itens repetidos\n",
    "options = df1['Decada'].unique()\n",
    "\n",
    "def func_utilidade(data, option):\n",
    "    return data.query('ResultadoExame == \"Negativo\"').value_counts(['Decada'])[option] / data.shape[0]\n",
    "\n",
    "#epsilons\n",
    "epsilons = [0.1, 0.5, 1.0, 10.0] \n",
    "\n",
    "# sensibilidade\n",
    "sensitivity = 1 "
   ]
  },
  {
   "cell_type": "code",
   "execution_count": 44,
   "id": "8e2ee98b",
   "metadata": {},
   "outputs": [],
   "source": [
    "#Mecanismo Exponencial\n",
    "all_e_results = {}\n",
    "\n",
    "for i in epsilons:\n",
    "    result = []\n",
    "    for j in range(10):\n",
    "        result.append(exponential(df1, options, func_utilidade, sensitivity, i))\n",
    "    all_e_results[str(i)] = result\n"
   ]
  },
  {
   "cell_type": "code",
   "execution_count": 45,
   "id": "9a525a8d",
   "metadata": {},
   "outputs": [],
   "source": [
    "#Salvando os dados em um novo DF\n",
    "df4 = pd.DataFrame(all_e_results)"
   ]
  },
  {
   "cell_type": "code",
   "execution_count": 46,
   "id": "b8466be7",
   "metadata": {},
   "outputs": [
    {
     "data": {
      "text/html": [
       "<div>\n",
       "<style scoped>\n",
       "    .dataframe tbody tr th:only-of-type {\n",
       "        vertical-align: middle;\n",
       "    }\n",
       "\n",
       "    .dataframe tbody tr th {\n",
       "        vertical-align: top;\n",
       "    }\n",
       "\n",
       "    .dataframe thead th {\n",
       "        text-align: right;\n",
       "    }\n",
       "</style>\n",
       "<table border=\"1\" class=\"dataframe\">\n",
       "  <thead>\n",
       "    <tr style=\"text-align: right;\">\n",
       "      <th></th>\n",
       "      <th>0.1</th>\n",
       "      <th>0.5</th>\n",
       "      <th>1.0</th>\n",
       "      <th>10.0</th>\n",
       "    </tr>\n",
       "  </thead>\n",
       "  <tbody>\n",
       "    <tr>\n",
       "      <th>0</th>\n",
       "      <td>2010</td>\n",
       "      <td>1910</td>\n",
       "      <td>1940</td>\n",
       "      <td>1930</td>\n",
       "    </tr>\n",
       "    <tr>\n",
       "      <th>1</th>\n",
       "      <td>1990</td>\n",
       "      <td>1980</td>\n",
       "      <td>1970</td>\n",
       "      <td>1940</td>\n",
       "    </tr>\n",
       "    <tr>\n",
       "      <th>2</th>\n",
       "      <td>1940</td>\n",
       "      <td>1920</td>\n",
       "      <td>2010</td>\n",
       "      <td>1940</td>\n",
       "    </tr>\n",
       "    <tr>\n",
       "      <th>3</th>\n",
       "      <td>1960</td>\n",
       "      <td>1900</td>\n",
       "      <td>1990</td>\n",
       "      <td>1960</td>\n",
       "    </tr>\n",
       "    <tr>\n",
       "      <th>4</th>\n",
       "      <td>1930</td>\n",
       "      <td>1980</td>\n",
       "      <td>1990</td>\n",
       "      <td>1990</td>\n",
       "    </tr>\n",
       "    <tr>\n",
       "      <th>5</th>\n",
       "      <td>1960</td>\n",
       "      <td>1980</td>\n",
       "      <td>1910</td>\n",
       "      <td>1920</td>\n",
       "    </tr>\n",
       "    <tr>\n",
       "      <th>6</th>\n",
       "      <td>1920</td>\n",
       "      <td>1960</td>\n",
       "      <td>2020</td>\n",
       "      <td>2010</td>\n",
       "    </tr>\n",
       "    <tr>\n",
       "      <th>7</th>\n",
       "      <td>1920</td>\n",
       "      <td>1910</td>\n",
       "      <td>1970</td>\n",
       "      <td>1900</td>\n",
       "    </tr>\n",
       "    <tr>\n",
       "      <th>8</th>\n",
       "      <td>1960</td>\n",
       "      <td>1950</td>\n",
       "      <td>1910</td>\n",
       "      <td>1930</td>\n",
       "    </tr>\n",
       "    <tr>\n",
       "      <th>9</th>\n",
       "      <td>2000</td>\n",
       "      <td>1980</td>\n",
       "      <td>1950</td>\n",
       "      <td>1920</td>\n",
       "    </tr>\n",
       "  </tbody>\n",
       "</table>\n",
       "</div>"
      ],
      "text/plain": [
       "    0.1   0.5   1.0  10.0\n",
       "0  2010  1910  1940  1930\n",
       "1  1990  1980  1970  1940\n",
       "2  1940  1920  2010  1940\n",
       "3  1960  1900  1990  1960\n",
       "4  1930  1980  1990  1990\n",
       "5  1960  1980  1910  1920\n",
       "6  1920  1960  2020  2010\n",
       "7  1920  1910  1970  1900\n",
       "8  1960  1950  1910  1930\n",
       "9  2000  1980  1950  1920"
      ]
     },
     "execution_count": 46,
     "metadata": {},
     "output_type": "execute_result"
    }
   ],
   "source": [
    "#Salva datraframe em arquivo csv\n",
    "df4.to_csv('Consulta_1_2Q2.csv', index=False)\n",
    "df4.head(50)"
   ]
  },
  {
   "cell_type": "code",
   "execution_count": 53,
   "id": "5adaa1dd",
   "metadata": {},
   "outputs": [
    {
     "data": {
      "image/png": "[encoded data removed]",
      "text/plain": [
       "<Figure size 432x288 with 1 Axes>"
      ]
     },
     "metadata": {
      "needs_background": "light"
     },
     "output_type": "display_data"
    },
    {
     "data": {
      "image/png": "[encoded data removed]",
      "text/plain": [
       "<Figure size 432x288 with 1 Axes>"
      ]
     },
     "metadata": {
      "needs_background": "light"
     },
     "output_type": "display_data"
    },
    {
     "data": {
      "image/png": "[encoded data removed]",
      "text/plain": [
       "<Figure size 432x288 with 1 Axes>"
      ]
     },
     "metadata": {
      "needs_background": "light"
     },
     "output_type": "display_data"
    },
    {
     "data": {
      "image/png": "[encoded data removed]",
      "text/plain": [
       "<Figure size 432x288 with 1 Axes>"
      ]
     },
     "metadata": {
      "needs_background": "light"
     },
     "output_type": "display_data"
    }
   ],
   "source": [
    "#plot histograma para Epsilon\n",
    "for i in epsilons: \n",
    "    df4.hist(column = str(i), bins = 10)"
   ]
  },
  {
   "cell_type": "code",
   "execution_count": null,
   "id": "da1a232f",
   "metadata": {},
   "outputs": [],
   "source": []
  }
 ],
 "metadata": {
  "kernelspec": {
   "display_name": "Python 3 (ipykernel)",
   "language": "python",
   "name": "python3"
  },
  "language_info": {
   "codemirror_mode": {
    "name": "ipython",
    "version": 3
   },
   "file_extension": ".py",
   "mimetype": "text/x-python",
   "name": "python",
   "nbconvert_exporter": "python",
   "pygments_lexer": "ipython3",
   "version": "3.9.12"
  }
 },
 "nbformat": 4,
 "nbformat_minor": 5
}
